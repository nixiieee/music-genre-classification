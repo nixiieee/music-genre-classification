{
 "cells": [
  {
   "cell_type": "code",
   "execution_count": 1,
   "id": "924a1fbc-61d4-4b9d-8340-d8b094dba9a7",
   "metadata": {},
   "outputs": [],
   "source": [
    "import librosa\n",
    "import numpy as np\n",
    "import pandas as pd\n",
    "from catboost import CatBoostClassifier"
   ]
  },
  {
   "cell_type": "code",
   "execution_count": 2,
   "id": "c0597ad7-0eb4-4fc4-8373-8ef5597c7038",
   "metadata": {},
   "outputs": [],
   "source": [
    "model = CatBoostClassifier()\n",
    "model.load_model('model.pickle')\n",
    "classes = ['blues', 'classical', 'country', 'disco', 'hiphop', 'jazz', 'metal', 'pop', 'reggae', 'rock']"
   ]
  },
  {
   "cell_type": "code",
   "execution_count": 3,
   "id": "ee1ad079-2e9a-44bb-85e8-d0b57923220a",
   "metadata": {},
   "outputs": [],
   "source": [
    "def extract_features(audio_file, sr):\n",
    "    features = {}\n",
    "    \n",
    "    chroma = librosa.feature.chroma_stft(y=audio_file, sr=sr)\n",
    "    features['chroma_stft_mean'] = [np.mean(chroma)]\n",
    "    features['chroma_stft_var'] = [np.var(chroma)]\n",
    "\n",
    "    rms = librosa.feature.rms(y=audio_file)\n",
    "    features['rms_mean'] = [np.mean(rms)]\n",
    "    features['rms_var'] = [np.var(rms)]\n",
    "\n",
    "    spectral_centroid = librosa.feature.spectral_centroid(y=audio_file, sr=sr)\n",
    "    features['spectral_centroid_mean'] = [np.mean(spectral_centroid)]\n",
    "    features['spectral_centroid_var'] = [np.var(spectral_centroid)]\n",
    "    \n",
    "    spectral_bandwidth = librosa.feature.spectral_bandwidth(y=audio_file, sr=sr)\n",
    "    features['spectral_bandwidth_mean'] = [np.mean(spectral_bandwidth)]\n",
    "    features['spectral_bandwidth_var'] = [np.var(spectral_bandwidth)]\n",
    "    \n",
    "    rolloff = librosa.feature.spectral_rolloff(y=audio_file, sr=sr)\n",
    "    features['rolloff_mean'] = [np.mean(rolloff)]\n",
    "    features['rolloff_var'] = [np.var(rolloff)]\n",
    "    \n",
    "    zero_crossing_rate = librosa.feature.zero_crossing_rate(y=audio_file)\n",
    "    features['zero_crossing_rate_mean'] = [np.mean(zero_crossing_rate)]\n",
    "    features['zero_crossing_rate_var'] = [np.var(zero_crossing_rate)]\n",
    "\n",
    "    y_harmonic, y_percussive = librosa.effects.hpss(audio_file)\n",
    "    features['harmony_mean'] = [np.mean(y_harmonic)]\n",
    "    features['harmony_var'] = [np.var(y_harmonic)]\n",
    "    features['perceptr_mean'] = [np.mean(y_percussive)]\n",
    "    features['perceptr_var'] = [np.var(y_percussive)]\n",
    "    \n",
    "    features['tempo'] = librosa.feature.tempo(y=audio_file, sr = sr)[0]\n",
    "    \n",
    "    mfccs = librosa.feature.mfcc(y=audio_file, sr=sr)\n",
    "    for i, mfcc in enumerate(mfccs):\n",
    "        features[f'mfcc{i+1}_mean'] = [np.mean(mfcc)]\n",
    "        features[f'mfcc{i+1}_var'] = [np.var(mfcc)]\n",
    "\n",
    "    return pd.DataFrame.from_dict(features)"
   ]
  },
  {
   "cell_type": "code",
   "execution_count": 4,
   "id": "36b6c49f-1535-4ab1-a74d-d984748f0c36",
   "metadata": {},
   "outputs": [],
   "source": [
    "def predict(model, audio_file, sr):\n",
    "    data = extract_features(audio_file, sr)\n",
    "    pred=model.predict(data)\n",
    "    return pred[0]"
   ]
  },
  {
   "cell_type": "code",
   "execution_count": 5,
   "id": "789788af-3229-4cc1-bfac-754656aa7f20",
   "metadata": {},
   "outputs": [],
   "source": [
    "y, sr = librosa.load('data/genres_original/classical/classical.00001.wav')"
   ]
  },
  {
   "cell_type": "code",
   "execution_count": 6,
   "id": "1ff8ab06-c5ff-4abb-964b-9334e4108ea7",
   "metadata": {},
   "outputs": [],
   "source": [
    "audio_file, _ = librosa.effects.trim(y)"
   ]
  },
  {
   "cell_type": "code",
   "execution_count": 7,
   "id": "d29874c3-81a1-4b89-b98a-54ab10c646d1",
   "metadata": {},
   "outputs": [
    {
     "name": "stdout",
     "output_type": "stream",
     "text": [
      "rock\n"
     ]
    }
   ],
   "source": [
    "votes = np.zeros(10)\n",
    "\n",
    "chunk_len = sr*3 # unit count per 3 seconds\n",
    "chunk_count = len(audio_file)//chunk_len\n",
    "for chunk_idx in range(chunk_count-1):\n",
    "    audio_chunk = audio_file[chunk_idx*chunk_len:(chunk_idx+1)*chunk_len]\n",
    "    label = predict(model, audio_chunk, sr)\n",
    "    votes[label] += 1\n",
    "last_chunk = audio_file[(chunk_count-1)*chunk_len:]\n",
    "label = predict(model, last_chunk, sr)\n",
    "votes[label] += 1\n",
    "\n",
    "print(classes[np.argmax(votes)])"
   ]
  },
  {
   "cell_type": "code",
   "execution_count": 8,
   "id": "3d80652c-cf41-4a8f-97e9-e80e397b553c",
   "metadata": {},
   "outputs": [
    {
     "data": {
      "text/plain": [
       "array([1., 0., 0., 0., 0., 0., 1., 0., 1., 7.])"
      ]
     },
     "execution_count": 8,
     "metadata": {},
     "output_type": "execute_result"
    }
   ],
   "source": [
    "votes"
   ]
  },
  {
   "cell_type": "code",
   "execution_count": 10,
   "id": "79ebe0ed-4a7d-4968-9522-506edb92af4f",
   "metadata": {},
   "outputs": [
    {
     "data": {
      "text/html": [
       "<div>\n",
       "<style scoped>\n",
       "    .dataframe tbody tr th:only-of-type {\n",
       "        vertical-align: middle;\n",
       "    }\n",
       "\n",
       "    .dataframe tbody tr th {\n",
       "        vertical-align: top;\n",
       "    }\n",
       "\n",
       "    .dataframe thead th {\n",
       "        text-align: right;\n",
       "    }\n",
       "</style>\n",
       "<table border=\"1\" class=\"dataframe\">\n",
       "  <thead>\n",
       "    <tr style=\"text-align: right;\">\n",
       "      <th></th>\n",
       "      <th>chroma_stft_mean</th>\n",
       "      <th>chroma_stft_var</th>\n",
       "      <th>rms_mean</th>\n",
       "      <th>rms_var</th>\n",
       "      <th>spectral_centroid_mean</th>\n",
       "      <th>spectral_centroid_var</th>\n",
       "      <th>spectral_bandwidth_mean</th>\n",
       "      <th>spectral_bandwidth_var</th>\n",
       "      <th>rolloff_mean</th>\n",
       "      <th>rolloff_var</th>\n",
       "      <th>...</th>\n",
       "      <th>mfcc16_mean</th>\n",
       "      <th>mfcc16_var</th>\n",
       "      <th>mfcc17_mean</th>\n",
       "      <th>mfcc17_var</th>\n",
       "      <th>mfcc18_mean</th>\n",
       "      <th>mfcc18_var</th>\n",
       "      <th>mfcc19_mean</th>\n",
       "      <th>mfcc19_var</th>\n",
       "      <th>mfcc20_mean</th>\n",
       "      <th>mfcc20_var</th>\n",
       "    </tr>\n",
       "  </thead>\n",
       "  <tbody>\n",
       "    <tr>\n",
       "      <th>0</th>\n",
       "      <td>0.214977</td>\n",
       "      <td>0.085011</td>\n",
       "      <td>0.03061</td>\n",
       "      <td>0.000161</td>\n",
       "      <td>1361.006486</td>\n",
       "      <td>61987.100557</td>\n",
       "      <td>1441.739951</td>\n",
       "      <td>32687.848035</td>\n",
       "      <td>2389.011463</td>\n",
       "      <td>371106.560548</td>\n",
       "      <td>...</td>\n",
       "      <td>-3.125152</td>\n",
       "      <td>158.625076</td>\n",
       "      <td>-4.289578</td>\n",
       "      <td>75.69735</td>\n",
       "      <td>0.594025</td>\n",
       "      <td>134.63237</td>\n",
       "      <td>2.877037</td>\n",
       "      <td>153.62085</td>\n",
       "      <td>0.374558</td>\n",
       "      <td>123.758858</td>\n",
       "    </tr>\n",
       "  </tbody>\n",
       "</table>\n",
       "<p>1 rows × 57 columns</p>\n",
       "</div>"
      ],
      "text/plain": [
       "   chroma_stft_mean  chroma_stft_var  rms_mean   rms_var  \\\n",
       "0          0.214977         0.085011   0.03061  0.000161   \n",
       "\n",
       "   spectral_centroid_mean  spectral_centroid_var  spectral_bandwidth_mean  \\\n",
       "0             1361.006486           61987.100557              1441.739951   \n",
       "\n",
       "   spectral_bandwidth_var  rolloff_mean    rolloff_var  ...  mfcc16_mean  \\\n",
       "0            32687.848035   2389.011463  371106.560548  ...    -3.125152   \n",
       "\n",
       "   mfcc16_var  mfcc17_mean  mfcc17_var  mfcc18_mean  mfcc18_var  mfcc19_mean  \\\n",
       "0  158.625076    -4.289578    75.69735     0.594025   134.63237     2.877037   \n",
       "\n",
       "   mfcc19_var  mfcc20_mean  mfcc20_var  \n",
       "0   153.62085     0.374558  123.758858  \n",
       "\n",
       "[1 rows x 57 columns]"
      ]
     },
     "execution_count": 10,
     "metadata": {},
     "output_type": "execute_result"
    }
   ],
   "source": [
    "extract_features(audio_file, sr)"
   ]
  },
  {
   "cell_type": "code",
   "execution_count": null,
   "id": "b56f6235-49ab-4aa1-a32d-d59766e7e939",
   "metadata": {},
   "outputs": [],
   "source": []
  }
 ],
 "metadata": {
  "kernelspec": {
   "display_name": "Python 3 (ipykernel)",
   "language": "python",
   "name": "python3"
  },
  "language_info": {
   "codemirror_mode": {
    "name": "ipython",
    "version": 3
   },
   "file_extension": ".py",
   "mimetype": "text/x-python",
   "name": "python",
   "nbconvert_exporter": "python",
   "pygments_lexer": "ipython3",
   "version": "3.11.7"
  }
 },
 "nbformat": 4,
 "nbformat_minor": 5
}
